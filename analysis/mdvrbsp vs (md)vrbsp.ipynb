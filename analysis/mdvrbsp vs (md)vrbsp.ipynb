{
 "cells": [
  {
   "cell_type": "markdown",
   "id": "a88ddfe4",
   "metadata": {},
   "source": [
    "# Count plots for BANDWIDTH VALUES CHOSEN BY ALGORITHMS"
   ]
  },
  {
   "cell_type": "code",
   "execution_count": 69,
   "id": "e327f9a1",
   "metadata": {},
   "outputs": [
    {
     "name": "stderr",
     "output_type": "stream",
     "text": [
      "The PostScript backend does not support transparency; partially transparent artists will be rendered opaque.\n"
     ]
    },
    {
     "data": {
      "image/png": "[encoded data removed]",
      "text/plain": [
       "<Figure size 640x480 with 1 Axes>"
      ]
     },
     "metadata": {},
     "output_type": "display_data"
    }
   ],
   "source": [
    "import pandas as pd\n",
    "import seaborn as sns\n",
    "import math\n",
    "\n",
    "def generate_count_plot(algorithms, L):\n",
    "    print()\n",
    "\n",
    "L=256\n",
    "group='uniform'\n",
    "frequency_mip = [0 for _ in range(45)]\n",
    "frequency_ch = [0 for _ in range(45)]\n",
    "frequency_vrbsp = [0 for _ in range(45)]\n",
    "for i in range(1, 31):\n",
    "    mip = f'/Users/jjaneto/Desktop/results-novo/{group}/milp/U_{L}/sol{L}_{i}.sol'\n",
    "    ch = f'/Users/jjaneto/Desktop/results-novo/{group}/ch/U_{L}/sol{L}_{i}.sol'\n",
    "    vrbsp = f'/Users/jjaneto/Desktop/results-novo/{group}/slvr/U_{L}/sol{L}_{i}.sol'\n",
    "    with open(mip, 'r') as f:\n",
    "        lines = f.readlines()\n",
    "        for line in lines:\n",
    "            l, c, t, _ = line.split(' ')\n",
    "            frequency_mip[int(c)] += 1\n",
    "            \n",
    "    with open(ch, 'r') as f:\n",
    "        lines = f.readlines()\n",
    "        for line in lines:\n",
    "            l, c, t, _ = line.split(' ')\n",
    "            frequency_ch[int(c)] += 1\n",
    "            \n",
    "    with open(vrbsp, 'r') as f:\n",
    "        lines = f.readlines()\n",
    "        for line in lines:\n",
    "            l, c, t = line.split(' ')\n",
    "            frequency_vrbsp[int(c)] += 1\n",
    "            \n",
    "\n",
    "# print(frequency)\n",
    "seila = []\n",
    "\n",
    "for ch, times in enumerate(frequency_mip):\n",
    "    for _ in range(times):\n",
    "        if ch <= 24: \n",
    "            seila.append(['B&C-F', 20])\n",
    "        elif ch <= 36:\n",
    "            seila.append(['B&C-F', 40])\n",
    "        elif ch <= 42:\n",
    "            seila.append(['B&C-F', 80])\n",
    "        else:\n",
    "            seila.append(['B&C-F', 160])\n",
    "            \n",
    "            \n",
    "for ch, times in enumerate(frequency_ch):\n",
    "    for _ in range(times):\n",
    "        if ch <= 24: \n",
    "            seila.append(['CH', 20])\n",
    "        elif ch <= 36:\n",
    "            seila.append(['CH', 40])\n",
    "        elif ch <= 42:\n",
    "            seila.append(['CH', 80])\n",
    "        else:\n",
    "            seila.append(['CH', 160])\n",
    "            \n",
    "for ch, times in enumerate(frequency_vrbsp):\n",
    "    for _ in range(times):\n",
    "        if ch <= 24: \n",
    "            seila.append(['SL-VRBSP', 20])\n",
    "        elif ch <= 36:\n",
    "            seila.append(['SL-VRBSP', 40])\n",
    "        elif ch <= 42:\n",
    "            seila.append(['SL-VRBSP', 80])\n",
    "        else:\n",
    "            seila.append(['SL-VRBSP', 160])\n",
    "        \n",
    "# print(seila)\n",
    "df = pd.DataFrame(data=seila, columns=['Algorithm', 'Bandwidth'])\n",
    "# df\n",
    "\n",
    "ax = sns.countplot(data=df, y='Bandwidth', hue='Algorithm', palette=['#ff7f0e', '#2ca02c'])\n",
    "ax.set(xlabel='Count')\n",
    "fig = ax.get_figure()\n",
    "fig.savefig(f'y__l{L}_results_bw_{group}.eps')"
   ]
  },
  {
   "cell_type": "markdown",
   "id": "d5f72732",
   "metadata": {},
   "source": [
    "# Count plots of bandwidths of GAMMA VALUES"
   ]
  },
  {
   "cell_type": "code",
   "execution_count": 21,
   "id": "80c76825",
   "metadata": {},
   "outputs": [
    {
     "data": {
      "image/png": "[encoded data removed]",
      "text/plain": [
       "<Figure size 640x480 with 1 Axes>"
      ]
     },
     "metadata": {},
     "output_type": "display_data"
    }
   ],
   "source": [
    "L_=[64] #,16,32,64,128,256,512,1024,2048]\n",
    "group='random'\n",
    "for L in L_:\n",
    "    frequency_bw = []\n",
    "    for i in range(1, 31):\n",
    "        file = f'/Users/jjaneto/git/master-thesis/instances/{group}/U_{L}/MD-VRBSP_U_{L}_{i}.txt'\n",
    "#         file = f'/Users/jjaneto/Desktop/results-novo/MD-VRBSP_U_{L}_{i}.txt'\n",
    "        with open(file, 'r') as f:\n",
    "            lines = f.readlines()\n",
    "            for line in lines[4 + 2 * L: 4 + 3 * L]:\n",
    "                datarate = float(line.rstrip('\\n'))\n",
    "                if datarate <= 143.4: \n",
    "                    frequency_bw.append(20)\n",
    "                elif datarate <= 286.8:\n",
    "                    frequency_bw.append(40)\n",
    "                elif datarate <= 600.5:\n",
    "                    frequency_bw.append(80)\n",
    "                else:\n",
    "                    frequency_bw.append(160)\n",
    "\n",
    "#     print(frequency_bw)\n",
    "    ax = sns.countplot(y=frequency_bw)\n",
    "    ax.set(ylabel='Bandwidth', xlabel='Count')\n",
    "    fig = ax.get_figure()\n",
    "    fig.savefig(f'y__gamma_l{L}_{group}.eps')\n",
    "\n"
   ]
  },
  {
   "cell_type": "markdown",
   "id": "ecac04da",
   "metadata": {},
   "source": [
    "## Statistical test"
   ]
  },
  {
   "cell_type": "code",
   "execution_count": null,
   "id": "113d0363",
   "metadata": {},
   "outputs": [],
   "source": []
  },
  {
   "cell_type": "markdown",
   "id": "547b7fd9",
   "metadata": {},
   "source": [
    "# Percentage difference"
   ]
  },
  {
   "cell_type": "code",
   "execution_count": 73,
   "id": "38f23f2f",
   "metadata": {},
   "outputs": [
    {
     "name": "stdout",
     "output_type": "stream",
     "text": [
      "30.22\n"
     ]
    }
   ],
   "source": [
    "import pandas as pd\n",
    "L=[128]\n",
    "for l in L:\n",
    "    df_ch = pd.read_csv(f'/Users/jjaneto/Desktop/results-novo/random/slvr/U_{l}/obj', header=None, sep='\\t')\n",
    "    df_vrbsp = pd.read_csv(f'/Users/jjaneto/Desktop/results-novo/random/milp/U_{l}/results{l}', header=None, sep='\\t')\n",
    "    \n",
    "    arr = []\n",
    "    for i in range(21):\n",
    "        arr.append([df_vrbsp[1][i], df_ch[1][i]])\n",
    "        \n",
    "    df = pd.DataFrame(arr, columns=['vrbsp', 'ch'])\n",
    "#     print(df)\n",
    "#     print(df.describe())\n",
    "\n",
    "    sum = 0.0\n",
    "    arr = []\n",
    "    for i in range(21):\n",
    "#         assert df['ch'][i] >= df['vrbsp'][i], (l, i)\n",
    "        sum += (df['ch'][i] - df['vrbsp'][i]) / df['vrbsp'][i]\n",
    "        arr.append((df['ch'][i] - df['vrbsp'][i]) / df['vrbsp'][i])\n",
    "        \n",
    "#     print(arr)\n",
    "    print(\"{:.2f}\".format(100.0 * sum / 30.0))\n",
    "            \n",
    "            \n",
    "# data_of = [[f1, f2] in f1, f2 for zip(obj_ch, obj_vrbsp)]\n",
    "# df = pd.DataFrame(data=data_of)"
   ]
  },
  {
   "cell_type": "markdown",
   "id": "e40fbb2f",
   "metadata": {},
   "source": [
    "# Network topology example"
   ]
  },
  {
   "cell_type": "code",
   "execution_count": 17,
   "id": "a41ebacb",
   "metadata": {},
   "outputs": [
    {
     "name": "stdout",
     "output_type": "stream",
     "text": [
      "64 64\n"
     ]
    },
    {
     "data": {
      "image/png": "[encoded data removed]",
      "text/plain": [
       "<Figure size 640x480 with 1 Axes>"
      ]
     },
     "metadata": {},
     "output_type": "display_data"
    },
    {
     "data": {
      "text/plain": [
       "<Figure size 640x480 with 0 Axes>"
      ]
     },
     "metadata": {},
     "output_type": "display_data"
    }
   ],
   "source": [
    "import seaborn as sns\n",
    "import numpy as np\n",
    "from matplotlib import pyplot as plt\n",
    "\n",
    "import secrets\n",
    "import math\n",
    "\n",
    "secretsGenerator = secrets.SystemRandom()\n",
    "\n",
    "\n",
    "def euclidean(a, b, c, d):\n",
    "    return math.sqrt(math.pow(a - c, 2) + math.pow(b - d, 2))\n",
    "\n",
    "\n",
    "n = 64\n",
    "dim = 250\n",
    "start_points = (\n",
    "    []\n",
    ")  # [(54.6, 35.2), (55.5, 32.7), (66.5, 23.7), (75.5, 47.8), (89.3, 19.7)]\n",
    "end_points = []  # [(38.9, 44.3), (46.7, 52.2), (72.0, 1.4), (62.3, 18.9), (80.8, 26.2)]\n",
    "\n",
    "receivers = [[secretsGenerator.uniform(0.0, dim) for _ in range(2)] for _ in range(n)]\n",
    "senders = []\n",
    "\n",
    "sqrt_2 = math.sqrt(2)\n",
    "for elem in receivers:\n",
    "    c1 = 0.0\n",
    "    c2 = 0.0\n",
    "    while True:\n",
    "        c1 = secretsGenerator.uniform(0.0, float(dim))\n",
    "        c2 = secretsGenerator.uniform(0.0, float(dim))\n",
    "        if euclidean(elem[0], elem[1], c1, c2) <= (6 * sqrt_2):\n",
    "            break\n",
    "\n",
    "    senders.append([c1, c2])\n",
    "\n",
    "print(len(senders), len(receivers))\n",
    "\n",
    "for i in range(n):\n",
    "    start_points.append((receivers[i][0], receivers[i][1]))\n",
    "    end_points.append((senders[i][0], senders[i][1]))\n",
    "\n",
    "plt.xlim(0, 250)\n",
    "plt.ylim(0, 250)\n",
    "\n",
    "for line in zip(start_points, end_points):\n",
    "    line = np.array(line)\n",
    "    # print(line[:])\n",
    "    plt.plot(line[:, 0], line[:, 1], color=\"black\", zorder=1)\n",
    "    plt.scatter(line[0, 0], line[0, 1], marker=\"o\", color=\"black\", zorder=2)\n",
    "    plt.scatter(line[1, 0], line[1, 1], marker=\"o\", color=\"red\", zorder=2)\n",
    "\n",
    "plt.tight_layout()\n",
    "plt.show()\n",
    "plt.savefig(\"./instance.eps\")\n"
   ]
  },
  {
   "cell_type": "code",
   "execution_count": null,
   "id": "f9bc4d2d",
   "metadata": {},
   "outputs": [],
   "source": []
  }
 ],
 "metadata": {
  "kernelspec": {
   "display_name": "Python 3 (ipykernel)",
   "language": "python",
   "name": "python3"
  },
  "language_info": {
   "codemirror_mode": {
    "name": "ipython",
    "version": 3
   },
   "file_extension": ".py",
   "mimetype": "text/x-python",
   "name": "python",
   "nbconvert_exporter": "python",
   "pygments_lexer": "ipython3",
   "version": "3.11.3"
  }
 },
 "nbformat": 4,
 "nbformat_minor": 5
}
