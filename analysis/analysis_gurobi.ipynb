{
 "cells": [
  {
   "cell_type": "code",
   "execution_count": 1,
   "metadata": {},
   "outputs": [],
   "source": [
    "#! /usr/bin/env python3\n",
    "\n",
    "import pandas as pd\n",
    "import os\n",
    "import sys"
   ]
  },
  {
   "cell_type": "code",
   "execution_count": 2,
   "metadata": {},
   "outputs": [],
   "source": [
    "def read_df(U, problem):\n",
    "    path = \"../results_final/gurobi/results/\"+problem+\"/U_\"+U+\"/result_information.txt\"\n",
    "    # print('read ' + path)\n",
    "    df = pd.read_csv(path, header=None, sep=\" \", names=[\"idx\",\"ObjVal\",\"ObjBoundC\",\"MIPGap\",\"NumVars\",\"NumConstrs\",\"NumNZs\",\"IterCount\",\"NodeCount\",\"Runtime\"])\n",
    "    # print(df)\n",
    "    df.drop(columns=['idx'], inplace=True)\n",
    "    return df"
   ]
  },
  {
   "cell_type": "code",
   "execution_count": 3,
   "metadata": {},
   "outputs": [],
   "source": [
    "problem='vrbsp-xijcm'\n",
    "indexes = [512]\n",
    "# indexes = [512,1024]"
   ]
  },
  {
   "cell_type": "code",
   "execution_count": 4,
   "metadata": {},
   "outputs": [
    {
     "name": "stdout",
     "output_type": "stream",
     "text": [
      "512 teve 0 otimos\n",
      "0 & inf & 188.18 & 38714236.59 & 15389696.00 & 0.03 & 3651.87\n"
     ]
    }
   ],
   "source": [
    "df = []\n",
    "for U in indexes:\n",
    "    df = read_df(str(U), problem)\n",
    "    df2 = df.loc[df[\"MIPGap\"] == 0.0]\n",
    "    print(str(U) + \" teve \" + str(len(df2)) + \" otimos\")\n",
    "    if df2.empty == False:\n",
    "        print('media dos tempos foi ' + str(df2[\"Runtime\"].mean()))\n",
    "        # print(str(U) + \" teve \" + str(len(df2)) + \" otimos\")\n",
    "        # df.drop(columns=['MIPGap'], inplace=True)\n",
    "        # df = df[[\"ObjVal\",\"ObjBoundC\",\"NumNZs\",\"NodeCount\"]]# ,\"NumVars\",\"NumConstrs\",\"IterCount\",\"Runtime\"]]\n",
    "    # print(df.describe())\n",
    "    # arr = [str(x).replace('.', ',') for x in df.mean().tolist()]\n",
    "    df = df[[\"MIPGap\",\"ObjVal\",\"ObjBoundC\",\"NumNZs\",\"NodeCount\",\"Runtime\"]]\n",
    "    # print(df)\n",
    "    df[\"MIPGap\"] = df[\"MIPGap\"].multiply(100)\n",
    "    arr = [str(\"{:.2f}\".format(x)) for x in df.mean().tolist()]\n",
    "    arr.insert(0, str(len(df2)))\n",
    "    # print(*arr)\n",
    "    print(' & '.join(arr))\n",
    "    \n",
    "# print(df.mean())\n",
    "# arr = [str(x).replace('.', ',') for x in df.mean().tolist()]\n",
    "# print(*arr)"
   ]
  },
  {
   "cell_type": "code",
   "execution_count": null,
   "metadata": {},
   "outputs": [],
   "source": []
  },
  {
   "cell_type": "code",
   "execution_count": null,
   "metadata": {},
   "outputs": [],
   "source": []
  }
 ],
 "metadata": {
  "kernelspec": {
   "display_name": "Python 3",
   "language": "python",
   "name": "python3"
  },
  "language_info": {
   "codemirror_mode": {
    "name": "ipython",
    "version": 3
   },
   "file_extension": ".py",
   "mimetype": "text/x-python",
   "name": "python",
   "nbconvert_exporter": "python",
   "pygments_lexer": "ipython3",
   "version": "3.8.3"
  }
 },
 "nbformat": 4,
 "nbformat_minor": 4
}
