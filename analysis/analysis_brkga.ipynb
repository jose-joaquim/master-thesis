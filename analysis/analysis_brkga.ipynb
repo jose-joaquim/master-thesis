{
 "cells": [
  {
   "cell_type": "code",
   "execution_count": 4,
   "metadata": {},
   "outputs": [],
   "source": [
    "#! /usr/bin/env python3\n",
    "\n",
    "import pandas as pd\n",
    "import os\n",
    "import sys"
   ]
  },
  {
   "cell_type": "code",
   "execution_count": 9,
   "metadata": {},
   "outputs": [],
   "source": [
    "def read_df(U):\n",
    "    path = '../jmetal/results/'+problem+'/U_' + str(U)\n",
    "    f = [path + '/' + k for k in os.listdir(path) if \"objectives.txt\" in k]\n",
    "    dfs = [pd.read_csv(planilha, sep=\" \", header=None, names=['idx', 'ObjValue', 'Eval']) for planilha in f]\n",
    "    \n",
    "    return dfs"
   ]
  },
  {
   "cell_type": "code",
   "execution_count": 35,
   "metadata": {},
   "outputs": [],
   "source": [
    "problem='SMPSO'\n",
    "indexes = [64]"
   ]
  },
  {
   "cell_type": "code",
   "execution_count": 36,
   "metadata": {},
   "outputs": [
    {
     "name": "stdout",
     "output_type": "stream",
     "text": [
      "idx        -28805.706667\n",
      "ObjValue    19565.066667\n",
      "Eval                 NaN\n",
      "dtype: float64\n",
      "-28805,706666666698 19565,066666666666 nan\n"
     ]
    }
   ],
   "source": [
    "df = []\n",
    "for U in indexes:\n",
    "    df = read_df(str(U))\n",
    "    # print(df)\n",
    "    # print(df.describe())\n",
    "    \n",
    "print(df[0].mean())\n",
    "arr = [str(x).replace('.', ',') for x in df[0].mean().tolist()]\n",
    "print(*arr)"
   ]
  },
  {
   "cell_type": "code",
   "execution_count": null,
   "metadata": {},
   "outputs": [],
   "source": []
  },
  {
   "cell_type": "code",
   "execution_count": null,
   "metadata": {},
   "outputs": [],
   "source": []
  }
 ],
 "metadata": {
  "kernelspec": {
   "display_name": "Python 3",
   "language": "python",
   "name": "python3"
  },
  "language_info": {
   "codemirror_mode": {
    "name": "ipython",
    "version": 3
   },
   "file_extension": ".py",
   "mimetype": "text/x-python",
   "name": "python",
   "nbconvert_exporter": "python",
   "pygments_lexer": "ipython3",
   "version": "3.8.3"
  }
 },
 "nbformat": 4,
 "nbformat_minor": 4
}
