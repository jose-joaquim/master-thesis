{
 "cells": [
  {
   "cell_type": "code",
   "execution_count": 1,
   "metadata": {},
   "outputs": [],
   "source": [
    "#! /usr/bin/env python3\n",
    "\n",
    "import pandas as pd\n",
    "import os\n",
    "import sys"
   ]
  },
  {
   "cell_type": "code",
   "execution_count": 37,
   "metadata": {},
   "outputs": [],
   "source": [
    "problem='mdvrbsp_MINMAX_RANDOM'\n",
    "indexes = [8, 16, 32, 64, 128, 256, 512, 1024, 2048]"
   ]
  },
  {
   "cell_type": "code",
   "execution_count": 39,
   "metadata": {},
   "outputs": [],
   "source": [
    "def read_dfs(U):\n",
    "    path = '../vns/results/'+problem+'/U_' + str(U)\n",
    "    f = [path + '/' + k for k in os.listdir(path) if \"objective_improvements\" in k]\n",
    "    dfs = [pd.read_csv(planilha, sep=\" \", header=None, names=['CurrTime', 'ObjValue']) for planilha in f]\n",
    "    \n",
    "    return dfs"
   ]
  },
  {
   "cell_type": "markdown",
   "metadata": {},
   "source": [
    "### Heuristic Constructive Data"
   ]
  },
  {
   "cell_type": "code",
   "execution_count": 40,
   "metadata": {
    "scrolled": true
   },
   "outputs": [
    {
     "name": "stdout",
     "output_type": "stream",
     "text": [
      "1,767 2,600 4,567 7,367 13,133 24,100 45,467 87,033 170,867\n"
     ]
    }
   ],
   "source": [
    "arr = []\n",
    "for u in indexes:\n",
    "    dfs = read_dfs(u)\n",
    "    ch_arr = [[df[\"ObjValue\"][0], df['CurrTime'][0]] for df in dfs]\n",
    "    # ch_arr = [dfs[0][\"ObjValue\"][0], dfs[0]['CurrTime'][0]]\n",
    "    ch_df = pd.DataFrame(data=ch_arr, columns=['ObjValue','Time'])\n",
    "    # arr.append(str(ch_df['ObjValue'].mean()).replace('.', ','))\n",
    "    arr.append(str(\"{:.3f}\".format(ch_df.mean()[0])).replace('.', ','))\n",
    "\n",
    "print(*arr)"
   ]
  },
  {
   "cell_type": "markdown",
   "metadata": {},
   "source": [
    "### VNS Objectives"
   ]
  },
  {
   "cell_type": "code",
   "execution_count": 41,
   "metadata": {},
   "outputs": [
    {
     "name": "stdout",
     "output_type": "stream",
     "text": [
      "1,4333333333333333 2,3666666666666667 4,366666666666666 7,366666666666666 13,133333333333333 24,1 45,46666666666667 87,03333333333333 170,86666666666667\n"
     ]
    }
   ],
   "source": [
    "arr = []\n",
    "for u in indexes:\n",
    "    dfs = read_dfs(u)\n",
    "    ch_arr = [df[\"ObjValue\"].iloc[-1] for df in dfs]\n",
    "    ch_df = pd.DataFrame(data=ch_arr, columns=['ObjValue'])\n",
    "    # print(ch_df['ObjValue'].mean())\n",
    "    arr.append(str(ch_df['ObjValue'].mean()).replace('.', ','))\n",
    "    \n",
    "print(*arr)"
   ]
  },
  {
   "cell_type": "code",
   "execution_count": 6,
   "metadata": {},
   "outputs": [
    {
     "data": {
      "image/png": "[encoded data removed]",
      "text/plain": [
       "<Figure size 432x288 with 1 Axes>"
      ]
     },
     "metadata": {
      "needs_background": "light"
     },
     "output_type": "display_data"
    }
   ],
   "source": [
    "import matplotlib.pyplot as plt\n",
    "dfs[0].plot(x=0,y=1)\n",
    "plt.show()"
   ]
  },
  {
   "cell_type": "code",
   "execution_count": 7,
   "metadata": {},
   "outputs": [
    {
     "data": {
      "text/html": [
       "<div>\n",
       "<style scoped>\n",
       "    .dataframe tbody tr th:only-of-type {\n",
       "        vertical-align: middle;\n",
       "    }\n",
       "\n",
       "    .dataframe tbody tr th {\n",
       "        vertical-align: top;\n",
       "    }\n",
       "\n",
       "    .dataframe thead th {\n",
       "        text-align: right;\n",
       "    }\n",
       "</style>\n",
       "<table border=\"1\" class=\"dataframe\">\n",
       "  <thead>\n",
       "    <tr style=\"text-align: right;\">\n",
       "      <th></th>\n",
       "      <th>CurrTime</th>\n",
       "      <th>ObjValue</th>\n",
       "    </tr>\n",
       "  </thead>\n",
       "  <tbody>\n",
       "    <tr>\n",
       "      <th>0</th>\n",
       "      <td>0.000</td>\n",
       "      <td>7085.9</td>\n",
       "    </tr>\n",
       "    <tr>\n",
       "      <th>1</th>\n",
       "      <td>0.010</td>\n",
       "      <td>7109.9</td>\n",
       "    </tr>\n",
       "    <tr>\n",
       "      <th>2</th>\n",
       "      <td>0.048</td>\n",
       "      <td>7169.9</td>\n",
       "    </tr>\n",
       "    <tr>\n",
       "      <th>3</th>\n",
       "      <td>0.053</td>\n",
       "      <td>7206.0</td>\n",
       "    </tr>\n",
       "    <tr>\n",
       "      <th>4</th>\n",
       "      <td>0.068</td>\n",
       "      <td>7230.0</td>\n",
       "    </tr>\n",
       "    <tr>\n",
       "      <th>5</th>\n",
       "      <td>0.084</td>\n",
       "      <td>7350.1</td>\n",
       "    </tr>\n",
       "  </tbody>\n",
       "</table>\n",
       "</div>"
      ],
      "text/plain": [
       "   CurrTime  ObjValue\n",
       "0     0.000    7085.9\n",
       "1     0.010    7109.9\n",
       "2     0.048    7169.9\n",
       "3     0.053    7206.0\n",
       "4     0.068    7230.0\n",
       "5     0.084    7350.1"
      ]
     },
     "execution_count": 7,
     "metadata": {},
     "output_type": "execute_result"
    }
   ],
   "source": [
    "dfs[0]"
   ]
  },
  {
   "cell_type": "code",
   "execution_count": 53,
   "metadata": {},
   "outputs": [
    {
     "name": "stdout",
     "output_type": "stream",
     "text": [
      "35255.52380952381\n",
      "44951.96666666667\n",
      "22623.3\n",
      "13802.5\n",
      "6873.033333333334\n",
      "3290.4\n",
      "1430.4666666666667\n",
      "557.2666666666667\n",
      "179.33333333333334\n"
     ]
    }
   ],
   "source": [
    "def read_iter(U):\n",
    "    path = '../vns/results/'+problem+'/U_' + str(U)\n",
    "    f = [path + '/' + k for k in os.listdir(path) if \"iterations\" in k]\n",
    "    dfs = [pd.read_csv(planilha, sep=\" \", header=None, names=['local', 'global']) for planilha in f]\n",
    "    dfs = [u for u in dfs if u.empty == False]\n",
    "    \n",
    "    return dfs\n",
    "\n",
    "\n",
    "# arr = []\n",
    "# for u in indexes:\n",
    "#     dfs = read_dfs(u)\n",
    "#     ch_arr = [df[\"ObjValue\"].iloc[-1] for df in dfs]\n",
    "#     ch_df = pd.DataFrame(data=ch_arr, columns=['ObjValue'])\n",
    "#     # print(ch_df['ObjValue'].mean())\n",
    "#     arr.append(str(ch_df['ObjValue'].mean()).replace('.', ','))\n",
    "    \n",
    "# print(*arr)\n",
    "\n",
    "for u in indexes:\n",
    "    seila = read_iter(u)\n",
    "    seila_arr = [df['local'].iloc[0] for df in seila]\n",
    "    ch_df = pd.DataFrame(data=seila_arr, columns=['loops'])\n",
    "    print(ch_df['loops'].mean())\n"
   ]
  },
  {
   "cell_type": "code",
   "execution_count": null,
   "metadata": {},
   "outputs": [],
   "source": []
  }
 ],
 "metadata": {
  "kernelspec": {
   "display_name": "Python 3",
   "language": "python",
   "name": "python3"
  },
  "language_info": {
   "codemirror_mode": {
    "name": "ipython",
    "version": 3
   },
   "file_extension": ".py",
   "mimetype": "text/x-python",
   "name": "python",
   "nbconvert_exporter": "python",
   "pygments_lexer": "ipython3",
   "version": "3.8.3"
  }
 },
 "nbformat": 4,
 "nbformat_minor": 4
}
